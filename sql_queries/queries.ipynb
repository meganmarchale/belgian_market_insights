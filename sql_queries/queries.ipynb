{
 "cells": [
  {
   "cell_type": "markdown",
   "id": "c62e60f8",
   "metadata": {},
   "source": [
    "Exploratory analysis"
   ]
  },
  {
   "cell_type": "code",
   "execution_count": null,
   "id": "bdb4b53e",
   "metadata": {},
   "outputs": [],
   "source": [
    "# Amount of companies in the original DB\n",
    "\n"
   ]
  },
  {
   "cell_type": "code",
   "execution_count": null,
   "id": "fc5d08ea",
   "metadata": {},
   "outputs": [],
   "source": [
    "# Nace codes differences\n",
    "\"\"\"\n",
    "SELECT DISTINCT *\n",
    "FROM code\n",
    "WHERE (Category = 'Nace2003' OR Category = 'Nace2008' OR Category = 'Nace2025')\n",
    "\tAND Language = 'FR';\n",
    " \"\"\""
   ]
  },
  {
   "cell_type": "code",
   "execution_count": null,
   "id": "374d5c99",
   "metadata": {},
   "outputs": [],
   "source": [
    "# Which percentage of companies are under which juridical form?\n",
    "\n",
    "\"\"\"\n",
    "SELECT\n",
    "\t    enterprise.JuridicalForm AS unique_JuridicalForm,\n",
    "\t    jf_codes.Description AS code_Description,\n",
    "\t    COUNT(*) AS nb_company,\n",
    "\t    ROUND(COUNT(*) * 100.0 / (SELECT count(*) from enterprise), 2) AS pourcentage\n",
    "\tFROM\n",
    "\t    enterprise\n",
    "\t    JOIN (\n",
    "\t\t    SELECT *\n",
    "\t\t\tFROM code\n",
    "\t\t\tWHERE Category = 'JuridicalForm' AND Language = 'FR') \n",
    "\t\t\tAS jf_codes ON jf_codes.Code = enterprise.JuridicalForm\n",
    "\tGROUP BY\n",
    "\t    JuridicalForm\n",
    "\tORDER BY\n",
    "\t    nb_company DESC;\n",
    "\"\"\""
   ]
  },
  {
   "cell_type": "code",
   "execution_count": null,
   "id": "0f973042",
   "metadata": {},
   "outputs": [],
   "source": [
    "# Juridical Forms\n",
    "\n",
    "\"\"\"\n",
    "SELECT DISTINCT\n",
    "  enterprise.JuridicalForm, code.Description AS Description, COUNT(enterprise.EnterpriseNumber) AS nb_company\n",
    "FROM\n",
    "  enterprise\n",
    "  JOIN code ON code.Code = enterprise.JuridicalForm AND code.Language='FR'\n",
    "  GROUP BY JuridicalForm\n",
    "  ORDER BY nb_company DESC;\n",
    "\"\"\""
   ]
  },
  {
   "cell_type": "markdown",
   "id": "d2e23e97",
   "metadata": {},
   "source": [
    "Creation of the MAIN TABLE\n",
    "\n",
    "This table will regroup all the needed data - based on the chosen analysis path - in one table."
   ]
  },
  {
   "cell_type": "code",
   "execution_count": null,
   "id": "fd8a7d22",
   "metadata": {},
   "outputs": [],
   "source": [
    "\"\"\"CREATE TABLE main AS\n",
    "SELECT \n",
    "\tenterprise.EnterpriseNumber,\n",
    "\tdenom.Denomination AS company_name, \n",
    "\tROUND((clss.Nacecode),-4) AS sector,\n",
    "\taddress.Zipcode AS province,\n",
    "\taddress.Zipcode,\n",
    "\tclss.Classification,\n",
    "\tenterprise.StartDate,\n",
    "\tclss.ActivityGroup AS private_public\n",
    "\t\n",
    "FROM enterprise\n",
    "\tJOIN \n",
    "\t\t(SELECT Classification, NaceCode, EntityNumber, ActivityGroup FROM activity WHERE Classification = 'MAIN') AS clss ON clss.EntityNumber = enterprise.EnterpriseNumber\n",
    "\tJOIN \n",
    "\t\taddress ON address.EntityNumber = enterprise.EnterpriseNumber\n",
    "\t\n",
    "\tJOIN \n",
    "\t\t(SELECT Code, Description, Category FROM code WHERE Language = 'FR' AND Category = 'ActivityGroup') AS cd ON cd.Code = clss.ActivityGroup\n",
    "\tJOIN \n",
    "\t\t(SELECT Denomination, EntityNumber FROM denomination WHERE TypeOfDenomination = 1) AS denom ON denom.EntityNumber = EnterpriseNumber\n",
    "\t\n",
    "\t\n",
    "ORDER BY address.Zipcode\n",
    "\n",
    "LIMIT 20\n",
    ";\n",
    "\n",
    "\n",
    "-- certification ip203 : data engineering on Microsoft Azure\"\"\""
   ]
  },
  {
   "cell_type": "markdown",
   "id": "537c503c",
   "metadata": {},
   "source": [
    "Transforming data in new columns\n"
   ]
  },
  {
   "cell_type": "code",
   "execution_count": null,
   "id": "12029180",
   "metadata": {},
   "outputs": [],
   "source": []
  },
  {
   "cell_type": "markdown",
   "id": "8c8a9a23",
   "metadata": {},
   "source": [
    "SUMMARY TABLES\n",
    "\n",
    "Each table is meant to answer to one specific question"
   ]
  },
  {
   "cell_type": "code",
   "execution_count": null,
   "id": "7f2ed938",
   "metadata": {},
   "outputs": [],
   "source": []
  }
 ],
 "metadata": {
  "kernelspec": {
   "display_name": "base",
   "language": "python",
   "name": "python3"
  },
  "language_info": {
   "name": "python",
   "version": "3.13.5"
  }
 },
 "nbformat": 4,
 "nbformat_minor": 5
}
