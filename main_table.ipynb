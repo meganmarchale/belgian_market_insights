{
 "cells": [
  {
   "cell_type": "code",
   "execution_count": 2,
   "id": "0c334a7c",
   "metadata": {},
   "outputs": [],
   "source": [
    "import sqlite3\n",
    "\n",
    "conn = sqlite3.connect(\"kbo_database.db\")\n",
    "cursor = conn.cursor()"
   ]
  },
  {
   "cell_type": "code",
   "execution_count": 3,
   "id": "6491460a",
   "metadata": {},
   "outputs": [
    {
     "name": "stdout",
     "output_type": "stream",
     "text": [
      "[('denomination',), ('branch',), ('activity',), ('establishment',), ('address',), ('contact',), ('meta',), ('code',), ('enterprise',), ('main1',), ('main',)]\n"
     ]
    }
   ],
   "source": [
    "cursor.execute(\"SELECT name FROM sqlite_master WHERE type='table';\")\n",
    "print(cursor.fetchall())"
   ]
  },
  {
   "cell_type": "code",
   "execution_count": 7,
   "id": "6c32af86",
   "metadata": {},
   "outputs": [
    {
     "data": {
      "text/plain": [
       "<sqlite3.Cursor at 0x1e81ec3ba40>"
      ]
     },
     "execution_count": 7,
     "metadata": {},
     "output_type": "execute_result"
    }
   ],
   "source": [
    "cursor.executescript(\"\"\"\n",
    "DROP TABLE IF EXISTS main;\n",
    "\n",
    "CREATE TABLE main AS\n",
    "SELECT \n",
    "\tenterprise.EnterpriseNumber,\n",
    "\tdenom.Denomination AS company_name, \n",
    "\tSUBSTR(CAST(clss.NaceCode AS TEXT), 1, 1) AS sector,\n",
    "\tCASE\n",
    "\t\tWHEN adr.Zipcode BETWEEN 1000 AND 1299 THEN 'Brussels'\n",
    "\t\tWHEN adr.Zipcode BETWEEN 1300 AND 1499 THEN 'Walloon Brabant'\n",
    "\t\tWHEN adr.Zipcode BETWEEN 1500 AND 1999 THEN 'Flemish Brabant'\n",
    "\t\tWHEN adr.Zipcode BETWEEN 2000 AND 2999 THEN 'Antwerp'\n",
    "\t\tWHEN adr.Zipcode BETWEEN 3000 AND 3999 THEN 'Flemish Brabant'\n",
    "\t\tWHEN adr.Zipcode BETWEEN 4000 AND 4999 THEN 'Liège'\n",
    "\t\tWHEN adr.Zipcode BETWEEN 5000 AND 5999 THEN 'Namur'\n",
    "\t\tWHEN adr.Zipcode BETWEEN 6000 AND 6999 THEN 'Hainaut'\n",
    "\t\tWHEN adr.Zipcode BETWEEN 7000 AND 7999 THEN 'Hainaut'\n",
    "\t\tWHEN adr.Zipcode BETWEEN 8000 AND 8999 THEN 'West Flanders'\n",
    "\t\tWHEN adr.Zipcode BETWEEN 9000 AND 9999 THEN 'East Flanders'\n",
    "\t\tELSE 'Unknown'\n",
    "    \tEND AS province,\n",
    "\tadr.Zipcode,\n",
    "\tclss.Classification,\n",
    "\tenterprise.StartDate,\n",
    "\tclss.ActivityGroup AS private_public\n",
    "\t\n",
    "FROM enterprise\n",
    "\tJOIN \n",
    "\t\t(SELECT Classification, NaceCode, EntityNumber, ActivityGroup FROM activity WHERE Classification = 'MAIN') AS clss ON clss.EntityNumber = enterprise.EnterpriseNumber\n",
    "\tLEFT JOIN \n",
    "\t\t(SELECT Zipcode, EntityNumber FROM address) AS adr ON adr.EntityNumber = enterprise.EnterpriseNumber\n",
    "  \tJOIN \n",
    "\t\t(SELECT Code, Description, Category FROM code WHERE Language = 'FR' AND Category = 'ActivityGroup') AS cd ON cd.Code = clss.ActivityGroup\n",
    "\tJOIN \n",
    "\t\t(SELECT Denomination, EntityNumber FROM denomination WHERE TypeOfDenomination = 1) AS denom ON denom.EntityNumber = enterprise.EnterpriseNumber\n",
    "\t\n",
    "\n",
    ";\n",
    "\n",
    "\"\"\")"
   ]
  },
  {
   "cell_type": "code",
   "execution_count": null,
   "id": "301064a7",
   "metadata": {},
   "outputs": [],
   "source": [
    "\"\"\"SELECT \n",
    "  enterprise.EnterpriseNumber, \n",
    "  adr.Zipcode \n",
    "FROM enterprise\n",
    "LEFT JOIN address AS adr ON adr.EntityNumber = enterprise.EnterpriseNumber\n",
    "LIMIT 20;\"\"\""
   ]
  },
  {
   "cell_type": "code",
   "execution_count": null,
   "id": "7e7e6a74",
   "metadata": {},
   "outputs": [
    {
     "name": "stdout",
     "output_type": "stream",
     "text": [
      "Structure de 'enterprise' :\n",
      "(0, 'EnterpriseNumber', 'TEXT', 0, None, 0)\n",
      "(1, 'Status', 'TEXT', 0, None, 0)\n",
      "(2, 'JuridicalSituation', 'INTEGER', 0, None, 0)\n",
      "(3, 'TypeOfEnterprise', 'INTEGER', 0, None, 0)\n",
      "(4, 'JuridicalForm', 'REAL', 0, None, 0)\n",
      "(5, 'JuridicalFormCAC', 'REAL', 0, None, 0)\n",
      "(6, 'StartDate', 'TEXT', 0, None, 0)\n",
      "\n",
      "Structure de 'address' :\n",
      "(0, 'EntityNumber', 'TEXT', 0, None, 0)\n",
      "(1, 'TypeOfAddress', 'TEXT', 0, None, 0)\n",
      "(2, 'CountryNL', 'TEXT', 0, None, 0)\n",
      "(3, 'CountryFR', 'TEXT', 0, None, 0)\n",
      "(4, 'Zipcode', 'TEXT', 0, None, 0)\n",
      "(5, 'MunicipalityNL', 'TEXT', 0, None, 0)\n",
      "(6, 'MunicipalityFR', 'TEXT', 0, None, 0)\n",
      "(7, 'StreetNL', 'TEXT', 0, None, 0)\n",
      "(8, 'StreetFR', 'TEXT', 0, None, 0)\n",
      "(9, 'HouseNumber', 'TEXT', 0, None, 0)\n",
      "(10, 'Box', 'TEXT', 0, None, 0)\n",
      "(11, 'ExtraAddressInfo', 'TEXT', 0, None, 0)\n",
      "(12, 'DateStrikingOff', 'TEXT', 0, None, 0)\n"
     ]
    }
   ],
   "source": [
    "cursor.execute(\"PRAGMA table_info(enterprise);\")\n",
    "enterprise_info = cursor.fetchall()\n",
    "print(\"Structure de 'enterprise' :\")\n",
    "for col in enterprise_info:\n",
    "    print(col)\n",
    "\n",
    "\n",
    "cursor.execute(\"PRAGMA table_info(address);\")\n",
    "address_info = cursor.fetchall()\n",
    "print(\"\\nStructure de 'address' :\")\n",
    "for col in address_info:\n",
    "    print(col)\n",
    "\n"
   ]
  },
  {
   "cell_type": "code",
   "execution_count": null,
   "id": "e77b678d",
   "metadata": {},
   "outputs": [
    {
     "name": "stdout",
     "output_type": "stream",
     "text": [
      "('0200.065.765', '0200.065.765')\n",
      "('0200.068.636', '0200.068.636')\n",
      "('0200.171.970', '0200.171.970')\n",
      "('0200.245.711', '0200.245.711')\n",
      "('0200.305.493', '0200.305.493')\n",
      "('0200.362.210', '0200.362.210')\n",
      "('0200.362.408', '0200.362.408')\n",
      "('0200.420.410', '0200.420.410')\n",
      "('0200.420.608', '0200.420.608')\n",
      "('0200.448.421', '0200.448.421')\n"
     ]
    }
   ],
   "source": [
    "cursor.execute(\"\"\"\n",
    "SELECT enterprise.EnterpriseNumber, address.EntityNumber\n",
    "FROM enterprise\n",
    "JOIN address ON enterprise.EnterpriseNumber = address.EntityNumber\n",
    "LIMIT 10;\n",
    "\"\"\")\n",
    "\n",
    "for row in cursor.fetchall():\n",
    "    print(row)"
   ]
  },
  {
   "cell_type": "code",
   "execution_count": null,
   "id": "425ea001",
   "metadata": {},
   "outputs": [
    {
     "name": "stdout",
     "output_type": "stream",
     "text": [
      "Zipcodes vides : [(38926,)]\n"
     ]
    }
   ],
   "source": [
    "cursor.execute(\"SELECT COUNT(DISTINCT Zipcode) FROM address;\")\n",
    "print(\"Zipcodes vides :\", cursor.fetchall())\n"
   ]
  },
  {
   "cell_type": "code",
   "execution_count": null,
   "id": "a85d2561",
   "metadata": {},
   "outputs": [
    {
     "name": "stdout",
     "output_type": "stream",
     "text": [
      "Numbre of rows in main : 20\n"
     ]
    }
   ],
   "source": [
    "cursor.execute(\"SELECT COUNT(*) FROM main;\")\n",
    "count = cursor.fetchone()[0]\n",
    "print(f\"Numbre of rows in main : {count}\")"
   ]
  },
  {
   "cell_type": "code",
   "execution_count": null,
   "id": "ae9591d6",
   "metadata": {},
   "outputs": [
    {
     "name": "stdout",
     "output_type": "stream",
     "text": [
      "('0403.465.857', 'Scandinavian Airlines System', 62100.0, 'Unknown', None, 'MAIN', '01-01-1968', 6)\n",
      "('0403.465.857', 'Scandinavian Airlines System', 51100.0, 'Unknown', None, 'MAIN', '01-01-1968', 6)\n",
      "('0403.465.857', 'Scandinavian Airlines System', 62100.0, 'Unknown', None, 'MAIN', '01-01-1968', 1)\n",
      "('0403.465.857', 'Scandinavian Airlines System', 51100.0, 'Unknown', None, 'MAIN', '01-01-1968', 1)\n",
      "('0403.465.857', 'Scandinavian Airlines System', 51100.0, 'Unknown', None, 'MAIN', '01-01-1968', 6)\n"
     ]
    }
   ],
   "source": [
    "cursor.execute(\"SELECT * FROM main LIMIT 5;\")\n",
    "for row in cursor.fetchall():\n",
    "    print(row)"
   ]
  },
  {
   "cell_type": "code",
   "execution_count": null,
   "id": "00c51859",
   "metadata": {},
   "outputs": [],
   "source": [
    "# Close connexion\n",
    "conn.commit()\n",
    "conn.close()"
   ]
  }
 ],
 "metadata": {
  "kernelspec": {
   "display_name": "base",
   "language": "python",
   "name": "python3"
  },
  "language_info": {
   "codemirror_mode": {
    "name": "ipython",
    "version": 3
   },
   "file_extension": ".py",
   "mimetype": "text/x-python",
   "name": "python",
   "nbconvert_exporter": "python",
   "pygments_lexer": "ipython3",
   "version": "3.13.5"
  }
 },
 "nbformat": 4,
 "nbformat_minor": 5
}
